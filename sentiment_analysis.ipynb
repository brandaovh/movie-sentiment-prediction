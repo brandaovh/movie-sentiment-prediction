{
 "cells": [
  {
   "cell_type": "code",
   "execution_count": null,
   "metadata": {},
   "outputs": [],
   "source": [
    "# Importing the necessary libraries\n",
    "\n",
    "import pandas as pd"
   ]
  },
  {
   "cell_type": "code",
   "execution_count": null,
   "metadata": {},
   "outputs": [],
   "source": [
    "# Load data\n",
    "reviews_df = pd.read_csv('imdb_reviews.csv', encoding='utf-8')"
   ]
  },
  {
   "cell_type": "code",
   "execution_count": null,
   "metadata": {},
   "outputs": [
    {
     "data": {
      "text/html": [
       "<div>\n",
       "<style scoped>\n",
       "    .dataframe tbody tr th:only-of-type {\n",
       "        vertical-align: middle;\n",
       "    }\n",
       "\n",
       "    .dataframe tbody tr th {\n",
       "        vertical-align: top;\n",
       "    }\n",
       "\n",
       "    .dataframe thead th {\n",
       "        text-align: right;\n",
       "    }\n",
       "</style>\n",
       "<table border=\"1\" class=\"dataframe\">\n",
       "  <thead>\n",
       "    <tr style=\"text-align: right;\">\n",
       "      <th></th>\n",
       "      <th>imdb_id</th>\n",
       "      <th>rating</th>\n",
       "      <th>review_content</th>\n",
       "    </tr>\n",
       "  </thead>\n",
       "  <tbody>\n",
       "    <tr>\n",
       "      <th>0</th>\n",
       "      <td>7026230</td>\n",
       "      <td>10.0</td>\n",
       "      <td>Patton Oswalt has been a long time favorite co...</td>\n",
       "    </tr>\n",
       "    <tr>\n",
       "      <th>1</th>\n",
       "      <td>7026230</td>\n",
       "      <td>10.0</td>\n",
       "      <td>With Patton Oswalt: Annihilation - aka, here's...</td>\n",
       "    </tr>\n",
       "    <tr>\n",
       "      <th>2</th>\n",
       "      <td>7026230</td>\n",
       "      <td>10.0</td>\n",
       "      <td>Man, that had to have been hard; but he makes ...</td>\n",
       "    </tr>\n",
       "    <tr>\n",
       "      <th>3</th>\n",
       "      <td>7026230</td>\n",
       "      <td>10.0</td>\n",
       "      <td>Coming off the death of his wife, Patton Oswal...</td>\n",
       "    </tr>\n",
       "    <tr>\n",
       "      <th>4</th>\n",
       "      <td>7026230</td>\n",
       "      <td>5.0</td>\n",
       "      <td>Patton Oswalt is a funny comedian, for sure.Bu...</td>\n",
       "    </tr>\n",
       "    <tr>\n",
       "      <th>...</th>\n",
       "      <td>...</td>\n",
       "      <td>...</td>\n",
       "      <td>...</td>\n",
       "    </tr>\n",
       "    <tr>\n",
       "      <th>84131</th>\n",
       "      <td>421994</td>\n",
       "      <td>6.0</td>\n",
       "      <td>Imagine Me &amp; You is a wryly amusing and well w...</td>\n",
       "    </tr>\n",
       "    <tr>\n",
       "      <th>84132</th>\n",
       "      <td>421994</td>\n",
       "      <td>5.0</td>\n",
       "      <td>The most impressive aspect of this frothy, und...</td>\n",
       "    </tr>\n",
       "    <tr>\n",
       "      <th>84133</th>\n",
       "      <td>421994</td>\n",
       "      <td>9.0</td>\n",
       "      <td>It's so rare to see a film that actually shows...</td>\n",
       "    </tr>\n",
       "    <tr>\n",
       "      <th>84134</th>\n",
       "      <td>421994</td>\n",
       "      <td>7.0</td>\n",
       "      <td>Watching this 17 years later in a very differe...</td>\n",
       "    </tr>\n",
       "    <tr>\n",
       "      <th>84135</th>\n",
       "      <td>421994</td>\n",
       "      <td>1.0</td>\n",
       "      <td>Reading some of the other reviews of this film...</td>\n",
       "    </tr>\n",
       "  </tbody>\n",
       "</table>\n",
       "<p>84136 rows × 3 columns</p>\n",
       "</div>"
      ],
      "text/plain": [
       "       imdb_id  rating                                     review_content\n",
       "0      7026230    10.0  Patton Oswalt has been a long time favorite co...\n",
       "1      7026230    10.0  With Patton Oswalt: Annihilation - aka, here's...\n",
       "2      7026230    10.0  Man, that had to have been hard; but he makes ...\n",
       "3      7026230    10.0  Coming off the death of his wife, Patton Oswal...\n",
       "4      7026230     5.0  Patton Oswalt is a funny comedian, for sure.Bu...\n",
       "...        ...     ...                                                ...\n",
       "84131   421994     6.0  Imagine Me & You is a wryly amusing and well w...\n",
       "84132   421994     5.0  The most impressive aspect of this frothy, und...\n",
       "84133   421994     9.0  It's so rare to see a film that actually shows...\n",
       "84134   421994     7.0  Watching this 17 years later in a very differe...\n",
       "84135   421994     1.0  Reading some of the other reviews of this film...\n",
       "\n",
       "[84136 rows x 3 columns]"
      ]
     },
     "execution_count": 127,
     "metadata": {},
     "output_type": "execute_result"
    }
   ],
   "source": [
    "reviews_df"
   ]
  },
  {
   "cell_type": "code",
   "execution_count": null,
   "metadata": {},
   "outputs": [],
   "source": [
    "from langdetect import detect, LangDetectException\n",
    "\n",
    "# Detect language of the comments and select only the ones in English\n",
    "def detect_language(text):\n",
    "    try:\n",
    "        return detect(text)\n",
    "    except LangDetectException:\n",
    "        return None\n",
    "\n",
    "reviews_df['language'] = reviews_df['review_content'].apply(detect_language)\n",
    "reviews_df = reviews_df[reviews_df['language'] == 'en']\n",
    "reviews_df = reviews_df.drop('language', axis=1)"
   ]
  },
  {
   "cell_type": "code",
   "execution_count": 129,
   "metadata": {},
   "outputs": [],
   "source": [
    "from nltk.corpus import stopwords\n",
    "from nltk.tokenize import word_tokenize\n",
    "from nltk.stem import WordNetLemmatizer\n",
    "\n",
    "stop_words = set(stopwords.words('english'))\n",
    "lemmatizer = WordNetLemmatizer()\n",
    "\n",
    "def preprocess_text(text):\n",
    "    tokens = word_tokenize(text.lower())  # Tokenize and lowercase\n",
    "    tokens = [word for word in tokens if word.isalpha()]  # Remove punctuation\n",
    "    tokens = [word for word in tokens if word not in stop_words]  # Remove stop words\n",
    "    tokens = [lemmatizer.lemmatize(word) for word in tokens]  # Lemmatize words\n",
    "    return ' '.join(tokens)\n",
    "\n",
    "# Apply preprocessing to the content column\n",
    "reviews_df['cleaned_content'] = reviews_df['review_content'].apply(preprocess_text)\n",
    "reviews_df = reviews_df.drop('review_content', axis=1)"
   ]
  },
  {
   "cell_type": "code",
   "execution_count": 130,
   "metadata": {},
   "outputs": [
    {
     "data": {
      "text/html": [
       "<div>\n",
       "<style scoped>\n",
       "    .dataframe tbody tr th:only-of-type {\n",
       "        vertical-align: middle;\n",
       "    }\n",
       "\n",
       "    .dataframe tbody tr th {\n",
       "        vertical-align: top;\n",
       "    }\n",
       "\n",
       "    .dataframe thead th {\n",
       "        text-align: right;\n",
       "    }\n",
       "</style>\n",
       "<table border=\"1\" class=\"dataframe\">\n",
       "  <thead>\n",
       "    <tr style=\"text-align: right;\">\n",
       "      <th></th>\n",
       "      <th>imdb_id</th>\n",
       "      <th>rating</th>\n",
       "      <th>cleaned_content</th>\n",
       "      <th>word_count</th>\n",
       "      <th>char_count</th>\n",
       "    </tr>\n",
       "  </thead>\n",
       "  <tbody>\n",
       "    <tr>\n",
       "      <th>0</th>\n",
       "      <td>7026230</td>\n",
       "      <td>10.0</td>\n",
       "      <td>patton oswalt long time favorite comedian mine...</td>\n",
       "      <td>101</td>\n",
       "      <td>689</td>\n",
       "    </tr>\n",
       "    <tr>\n",
       "      <th>1</th>\n",
       "      <td>7026230</td>\n",
       "      <td>10.0</td>\n",
       "      <td>patton oswalt annihilation aka life like sure ...</td>\n",
       "      <td>158</td>\n",
       "      <td>999</td>\n",
       "    </tr>\n",
       "    <tr>\n",
       "      <th>2</th>\n",
       "      <td>7026230</td>\n",
       "      <td>10.0</td>\n",
       "      <td>man hard make look easy considering level patt...</td>\n",
       "      <td>55</td>\n",
       "      <td>365</td>\n",
       "    </tr>\n",
       "    <tr>\n",
       "      <th>3</th>\n",
       "      <td>7026230</td>\n",
       "      <td>10.0</td>\n",
       "      <td>coming death wife patton oswalt delivers great...</td>\n",
       "      <td>74</td>\n",
       "      <td>493</td>\n",
       "    </tr>\n",
       "    <tr>\n",
       "      <th>4</th>\n",
       "      <td>7026230</td>\n",
       "      <td>5.0</td>\n",
       "      <td>patton oswalt funny comedian show much focused...</td>\n",
       "      <td>57</td>\n",
       "      <td>373</td>\n",
       "    </tr>\n",
       "    <tr>\n",
       "      <th>...</th>\n",
       "      <td>...</td>\n",
       "      <td>...</td>\n",
       "      <td>...</td>\n",
       "      <td>...</td>\n",
       "      <td>...</td>\n",
       "    </tr>\n",
       "    <tr>\n",
       "      <th>84131</th>\n",
       "      <td>421994</td>\n",
       "      <td>6.0</td>\n",
       "      <td>imagine wryly amusing well written romantic co...</td>\n",
       "      <td>136</td>\n",
       "      <td>951</td>\n",
       "    </tr>\n",
       "    <tr>\n",
       "      <th>84132</th>\n",
       "      <td>421994</td>\n",
       "      <td>5.0</td>\n",
       "      <td>impressive aspect frothy underdeveloped romant...</td>\n",
       "      <td>236</td>\n",
       "      <td>1680</td>\n",
       "    </tr>\n",
       "    <tr>\n",
       "      <th>84133</th>\n",
       "      <td>421994</td>\n",
       "      <td>9.0</td>\n",
       "      <td>rare see film actually show people conscience ...</td>\n",
       "      <td>55</td>\n",
       "      <td>350</td>\n",
       "    </tr>\n",
       "    <tr>\n",
       "      <th>84134</th>\n",
       "      <td>421994</td>\n",
       "      <td>7.0</td>\n",
       "      <td>watching year later different world made smile...</td>\n",
       "      <td>42</td>\n",
       "      <td>287</td>\n",
       "    </tr>\n",
       "    <tr>\n",
       "      <th>84135</th>\n",
       "      <td>421994</td>\n",
       "      <td>1.0</td>\n",
       "      <td>reading review film seems either love hate tho...</td>\n",
       "      <td>95</td>\n",
       "      <td>676</td>\n",
       "    </tr>\n",
       "  </tbody>\n",
       "</table>\n",
       "<p>84119 rows × 5 columns</p>\n",
       "</div>"
      ],
      "text/plain": [
       "       imdb_id  rating                                    cleaned_content  \\\n",
       "0      7026230    10.0  patton oswalt long time favorite comedian mine...   \n",
       "1      7026230    10.0  patton oswalt annihilation aka life like sure ...   \n",
       "2      7026230    10.0  man hard make look easy considering level patt...   \n",
       "3      7026230    10.0  coming death wife patton oswalt delivers great...   \n",
       "4      7026230     5.0  patton oswalt funny comedian show much focused...   \n",
       "...        ...     ...                                                ...   \n",
       "84131   421994     6.0  imagine wryly amusing well written romantic co...   \n",
       "84132   421994     5.0  impressive aspect frothy underdeveloped romant...   \n",
       "84133   421994     9.0  rare see film actually show people conscience ...   \n",
       "84134   421994     7.0  watching year later different world made smile...   \n",
       "84135   421994     1.0  reading review film seems either love hate tho...   \n",
       "\n",
       "       word_count  char_count  \n",
       "0             101         689  \n",
       "1             158         999  \n",
       "2              55         365  \n",
       "3              74         493  \n",
       "4              57         373  \n",
       "...           ...         ...  \n",
       "84131         136         951  \n",
       "84132         236        1680  \n",
       "84133          55         350  \n",
       "84134          42         287  \n",
       "84135          95         676  \n",
       "\n",
       "[84119 rows x 5 columns]"
      ]
     },
     "execution_count": 130,
     "metadata": {},
     "output_type": "execute_result"
    }
   ],
   "source": [
    "# Count the number of words and characters in each review\n",
    "reviews_df['word_count'] = reviews_df['cleaned_content'].apply(lambda x: len(x.split()))\n",
    "reviews_df['char_count'] = reviews_df['cleaned_content'].apply(len)\n",
    "reviews_df"
   ]
  },
  {
   "cell_type": "code",
   "execution_count": 131,
   "metadata": {},
   "outputs": [
    {
     "data": {
      "text/html": [
       "<div>\n",
       "<style scoped>\n",
       "    .dataframe tbody tr th:only-of-type {\n",
       "        vertical-align: middle;\n",
       "    }\n",
       "\n",
       "    .dataframe tbody tr th {\n",
       "        vertical-align: top;\n",
       "    }\n",
       "\n",
       "    .dataframe thead th {\n",
       "        text-align: right;\n",
       "    }\n",
       "</style>\n",
       "<table border=\"1\" class=\"dataframe\">\n",
       "  <thead>\n",
       "    <tr style=\"text-align: right;\">\n",
       "      <th></th>\n",
       "      <th>imdb_id</th>\n",
       "      <th>rating</th>\n",
       "      <th>word_count</th>\n",
       "      <th>char_count</th>\n",
       "    </tr>\n",
       "  </thead>\n",
       "  <tbody>\n",
       "    <tr>\n",
       "      <th>imdb_id</th>\n",
       "      <td>1.000000</td>\n",
       "      <td>-0.089855</td>\n",
       "      <td>-0.176219</td>\n",
       "      <td>-0.171366</td>\n",
       "    </tr>\n",
       "    <tr>\n",
       "      <th>rating</th>\n",
       "      <td>-0.089855</td>\n",
       "      <td>1.000000</td>\n",
       "      <td>0.044146</td>\n",
       "      <td>0.050016</td>\n",
       "    </tr>\n",
       "    <tr>\n",
       "      <th>word_count</th>\n",
       "      <td>-0.176219</td>\n",
       "      <td>0.044146</td>\n",
       "      <td>1.000000</td>\n",
       "      <td>0.997218</td>\n",
       "    </tr>\n",
       "    <tr>\n",
       "      <th>char_count</th>\n",
       "      <td>-0.171366</td>\n",
       "      <td>0.050016</td>\n",
       "      <td>0.997218</td>\n",
       "      <td>1.000000</td>\n",
       "    </tr>\n",
       "  </tbody>\n",
       "</table>\n",
       "</div>"
      ],
      "text/plain": [
       "             imdb_id    rating  word_count  char_count\n",
       "imdb_id     1.000000 -0.089855   -0.176219   -0.171366\n",
       "rating     -0.089855  1.000000    0.044146    0.050016\n",
       "word_count -0.176219  0.044146    1.000000    0.997218\n",
       "char_count -0.171366  0.050016    0.997218    1.000000"
      ]
     },
     "execution_count": 131,
     "metadata": {},
     "output_type": "execute_result"
    }
   ],
   "source": [
    "# Select the numeric columns\n",
    "numeric_cols = reviews_df.select_dtypes(include='number')\n",
    "\n",
    "# Show the correlation matrix\n",
    "correlation_matrix = numeric_cols.corr()\n",
    "correlation_matrix"
   ]
  },
  {
   "cell_type": "code",
   "execution_count": 132,
   "metadata": {},
   "outputs": [
    {
     "data": {
      "text/html": [
       "<div>\n",
       "<style scoped>\n",
       "    .dataframe tbody tr th:only-of-type {\n",
       "        vertical-align: middle;\n",
       "    }\n",
       "\n",
       "    .dataframe tbody tr th {\n",
       "        vertical-align: top;\n",
       "    }\n",
       "\n",
       "    .dataframe thead th {\n",
       "        text-align: right;\n",
       "    }\n",
       "</style>\n",
       "<table border=\"1\" class=\"dataframe\">\n",
       "  <thead>\n",
       "    <tr style=\"text-align: right;\">\n",
       "      <th></th>\n",
       "      <th>imdb_id</th>\n",
       "      <th>rating</th>\n",
       "      <th>word_count</th>\n",
       "      <th>char_count</th>\n",
       "    </tr>\n",
       "  </thead>\n",
       "  <tbody>\n",
       "    <tr>\n",
       "      <th>count</th>\n",
       "      <td>8.411900e+04</td>\n",
       "      <td>84119.000000</td>\n",
       "      <td>84119.000000</td>\n",
       "      <td>84119.000000</td>\n",
       "    </tr>\n",
       "    <tr>\n",
       "      <th>mean</th>\n",
       "      <td>2.348656e+06</td>\n",
       "      <td>6.474613</td>\n",
       "      <td>129.776281</td>\n",
       "      <td>893.002568</td>\n",
       "    </tr>\n",
       "    <tr>\n",
       "      <th>std</th>\n",
       "      <td>1.878193e+06</td>\n",
       "      <td>2.402089</td>\n",
       "      <td>104.692111</td>\n",
       "      <td>734.044235</td>\n",
       "    </tr>\n",
       "    <tr>\n",
       "      <th>min</th>\n",
       "      <td>3.542300e+04</td>\n",
       "      <td>1.000000</td>\n",
       "      <td>1.000000</td>\n",
       "      <td>4.000000</td>\n",
       "    </tr>\n",
       "    <tr>\n",
       "      <th>25%</th>\n",
       "      <td>8.624670e+05</td>\n",
       "      <td>6.000000</td>\n",
       "      <td>60.000000</td>\n",
       "      <td>404.000000</td>\n",
       "    </tr>\n",
       "    <tr>\n",
       "      <th>50%</th>\n",
       "      <td>1.821427e+06</td>\n",
       "      <td>7.000000</td>\n",
       "      <td>95.000000</td>\n",
       "      <td>650.000000</td>\n",
       "    </tr>\n",
       "    <tr>\n",
       "      <th>75%</th>\n",
       "      <td>3.458510e+06</td>\n",
       "      <td>8.000000</td>\n",
       "      <td>170.000000</td>\n",
       "      <td>1168.000000</td>\n",
       "    </tr>\n",
       "    <tr>\n",
       "      <th>max</th>\n",
       "      <td>8.786466e+06</td>\n",
       "      <td>10.000000</td>\n",
       "      <td>1016.000000</td>\n",
       "      <td>6955.000000</td>\n",
       "    </tr>\n",
       "  </tbody>\n",
       "</table>\n",
       "</div>"
      ],
      "text/plain": [
       "            imdb_id        rating    word_count    char_count\n",
       "count  8.411900e+04  84119.000000  84119.000000  84119.000000\n",
       "mean   2.348656e+06      6.474613    129.776281    893.002568\n",
       "std    1.878193e+06      2.402089    104.692111    734.044235\n",
       "min    3.542300e+04      1.000000      1.000000      4.000000\n",
       "25%    8.624670e+05      6.000000     60.000000    404.000000\n",
       "50%    1.821427e+06      7.000000     95.000000    650.000000\n",
       "75%    3.458510e+06      8.000000    170.000000   1168.000000\n",
       "max    8.786466e+06     10.000000   1016.000000   6955.000000"
      ]
     },
     "execution_count": 132,
     "metadata": {},
     "output_type": "execute_result"
    }
   ],
   "source": [
    "# Describe the data\n",
    "reviews_df.describe()"
   ]
  },
  {
   "cell_type": "code",
   "execution_count": 134,
   "metadata": {},
   "outputs": [],
   "source": [
    "from nltk.sentiment import SentimentIntensityAnalyzer\n",
    "\n",
    "# Sentiment Analysis\n",
    "def analyze_sentiment(text):\n",
    "    sid = SentimentIntensityAnalyzer()\n",
    "    sentiment_scores = sid.polarity_scores(text)\n",
    "    return sentiment_scores['pos'], sentiment_scores['neg'], sentiment_scores['neu'], sentiment_scores['compound']\n",
    "\n",
    "reviews_df[['positive', 'negative', 'neutral', 'compound']] = reviews_df['cleaned_content'].apply(lambda x: pd.Series(analyze_sentiment(x)))"
   ]
  },
  {
   "cell_type": "code",
   "execution_count": 135,
   "metadata": {},
   "outputs": [],
   "source": [
    "# Create sentiment labels\n",
    "def create_sentiment_label(compound_score):\n",
    "    if compound_score > 0.0:\n",
    "        return 'positive'\n",
    "    elif compound_score < 0.0:\n",
    "        return 'negative'\n",
    "    else:\n",
    "        return None\n",
    "\n",
    "reviews_df['sentiment_label'] = reviews_df['compound'].apply(create_sentiment_label)\n",
    "sentiment_mapping = {'positive': 1, 'negative': 0}\n",
    "reviews_df['sentiment_label_encoded'] = reviews_df['sentiment_label'].map(sentiment_mapping)"
   ]
  },
  {
   "cell_type": "code",
   "execution_count": 136,
   "metadata": {},
   "outputs": [],
   "source": [
    "# Save the data into a new CSV file (for Power BI)\n",
    "reviews_df.to_csv('imdb_reviews_labeled.csv', index=False)"
   ]
  },
  {
   "cell_type": "code",
   "execution_count": 137,
   "metadata": {},
   "outputs": [],
   "source": [
    "# Drop rows with 'None' labels (neutral sentiment)\n",
    "reviews_df = reviews_df.dropna(subset=['sentiment_label'])"
   ]
  },
  {
   "cell_type": "code",
   "execution_count": 169,
   "metadata": {},
   "outputs": [],
   "source": [
    "from sklearn.feature_extraction.text import TfidfVectorizer\n",
    "from sklearn.model_selection import train_test_split\n",
    "\n",
    "# Feature Extraction\n",
    "tfidf_vectorizer = TfidfVectorizer()\n",
    "tfidf_features = tfidf_vectorizer.fit_transform(reviews_df['cleaned_content'])\n",
    "\n",
    "# Prepare data for Logistic Regression\n",
    "X = tfidf_features\n",
    "y = reviews_df['sentiment_label_encoded']\n",
    "\n",
    "# Split the dataset\n",
    "X_train, X_test, y_train, y_test = train_test_split(X, y, test_size=0.2, random_state=42)"
   ]
  },
  {
   "cell_type": "code",
   "execution_count": 170,
   "metadata": {},
   "outputs": [],
   "source": [
    "from sklearn.linear_model import LogisticRegression\n",
    "\n",
    "# Train and evaluate Logistic Regression\n",
    "logistic_model = LogisticRegression(max_iter=1000)\n",
    "logistic_model.fit(X_train, y_train)\n",
    "y_pred = logistic_model.predict(X_test)\n",
    "y_pred_proba = logistic_model.predict_proba(X_test)[:, 1]"
   ]
  },
  {
   "cell_type": "code",
   "execution_count": 171,
   "metadata": {},
   "outputs": [
    {
     "name": "stdout",
     "output_type": "stream",
     "text": [
      "              precision    recall  f1-score   support\n",
      "\n",
      "    Negative       0.92      0.66      0.77      3389\n",
      "    Positive       0.92      0.98      0.95     13384\n",
      "\n",
      "    accuracy                           0.92     16773\n",
      "   macro avg       0.92      0.82      0.86     16773\n",
      "weighted avg       0.92      0.92      0.91     16773\n",
      "\n"
     ]
    }
   ],
   "source": [
    "from sklearn.metrics import classification_report\n",
    "\n",
    "# Print classification report\n",
    "print(classification_report(y_test, y_pred, target_names=['Negative', 'Positive']))"
   ]
  },
  {
   "cell_type": "code",
   "execution_count": 172,
   "metadata": {},
   "outputs": [
    {
     "data": {
      "image/png": "[encoded data removed]",
      "text/plain": [
       "<Figure size 640x480 with 2 Axes>"
      ]
     },
     "metadata": {},
     "output_type": "display_data"
    }
   ],
   "source": [
    "import matplotlib.pyplot as plt\n",
    "from sklearn.metrics import confusion_matrix, ConfusionMatrixDisplay\n",
    "\n",
    "# Plot confusion matrix\n",
    "cm = confusion_matrix(y_test, y_pred, labels=[0, 1])\n",
    "disp = ConfusionMatrixDisplay(confusion_matrix=cm, display_labels=['Negative', 'Positive'])\n",
    "disp.plot(cmap=plt.cm.Blues)\n",
    "plt.show()"
   ]
  },
  {
   "cell_type": "code",
   "execution_count": 173,
   "metadata": {},
   "outputs": [
    {
     "name": "stdout",
     "output_type": "stream",
     "text": [
      "[[0.         0.         0.         ... 0.         0.         0.13168987]\n",
      " [0.         0.         0.         ... 0.         0.         0.        ]\n",
      " [0.         0.         0.         ... 0.         0.         0.        ]\n",
      " ...\n",
      " [0.         0.         0.         ... 0.         0.         0.        ]\n",
      " [0.         0.         0.         ... 0.         0.         0.        ]\n",
      " [0.         0.         0.         ... 0.         0.         0.        ]]\n",
      "[1. 1. 1. ... 1. 1. 0.]\n"
     ]
    }
   ],
   "source": [
    "from sklearn.feature_extraction.text import TfidfVectorizer\n",
    "\n",
    "tfidf= TfidfVectorizer(max_features=3000)\n",
    "X=tfidf.fit_transform(reviews_df['cleaned_content']).toarray()\n",
    "y=reviews_df['sentiment_label_encoded'].values\n",
    "print(X)\n",
    "print(y) "
   ]
  },
  {
   "cell_type": "code",
   "execution_count": 174,
   "metadata": {},
   "outputs": [],
   "source": [
    "# Split the data into training and testing sets\n",
    "from sklearn.model_selection import train_test_split\n",
    "X_train, X_test, y_train, y_test = train_test_split(X, y, test_size=0.2, random_state=42)"
   ]
  },
  {
   "cell_type": "code",
   "execution_count": 175,
   "metadata": {},
   "outputs": [],
   "source": [
    "from sklearn.naive_bayes import GaussianNB,MultinomialNB,BernoulliNB\n",
    "\n",
    "gnb = GaussianNB()\n",
    "bnb = BernoulliNB()\n",
    "mnb = MultinomialNB()"
   ]
  },
  {
   "cell_type": "code",
   "execution_count": 176,
   "metadata": {},
   "outputs": [
    {
     "name": "stdout",
     "output_type": "stream",
     "text": [
      "Accuracy score of Gaussian NB is:  0.7621176891432659\n",
      "Confusion Matrix of Guassian NB is:\n",
      " [[ 2735   654]\n",
      " [ 3336 10048]]\n",
      "Precision score of the Gaussian NB is 0.9388899271164268\n",
      "Recall score of the Gaussian NB is 0.7507471607890018\n",
      "F1 score of the Gaussian NB is 0.8343436020925019\n",
      "Classification report of the Gaussian NB is:\n",
      "               precision    recall  f1-score   support\n",
      "\n",
      "         0.0       0.45      0.81      0.58      3389\n",
      "         1.0       0.94      0.75      0.83     13384\n",
      "\n",
      "    accuracy                           0.76     16773\n",
      "   macro avg       0.69      0.78      0.71     16773\n",
      "weighted avg       0.84      0.76      0.78     16773\n",
      "\n"
     ]
    }
   ],
   "source": [
    "from sklearn.metrics import classification_report, accuracy_score, precision_score, recall_score, f1_score, confusion_matrix\n",
    "\n",
    "gnb.fit(X_train,y_train)\n",
    "y_pred1= gnb.predict(X_test)\n",
    "print('Accuracy score of Gaussian NB is: ',accuracy_score(y_test,y_pred1))\n",
    "print('Confusion Matrix of Guassian NB is:\\n',confusion_matrix(y_test,y_pred1))\n",
    "print('Precision score of the Gaussian NB is',precision_score(y_test,y_pred1))\n",
    "print('Recall score of the Gaussian NB is',recall_score(y_test,y_pred1))\n",
    "print('F1 score of the Gaussian NB is',f1_score(y_test,y_pred1))\n",
    "print('Classification report of the Gaussian NB is:\\n',classification_report(y_test,y_pred1))"
   ]
  },
  {
   "cell_type": "code",
   "execution_count": 177,
   "metadata": {},
   "outputs": [
    {
     "name": "stdout",
     "output_type": "stream",
     "text": [
      "Accuracy score of Multinomial NB is:  0.8248971561438025\n",
      "Confusion Matrix of Multinomial NB is:\n",
      " [[  468  2921]\n",
      " [   16 13368]]\n",
      "Precision score of the Multinomial NB is 0.8206765301737369\n",
      "Recall score of the Multinomial NB is 0.9988045427375971\n",
      "F1 score of the Multinomial NB is 0.9010211303204934\n",
      "Classification report of the Multinomial NB is:\n",
      "               precision    recall  f1-score   support\n",
      "\n",
      "         0.0       0.97      0.14      0.24      3389\n",
      "         1.0       0.82      1.00      0.90     13384\n",
      "\n",
      "    accuracy                           0.82     16773\n",
      "   macro avg       0.89      0.57      0.57     16773\n",
      "weighted avg       0.85      0.82      0.77     16773\n",
      "\n"
     ]
    }
   ],
   "source": [
    "mnb.fit(X_train,y_train)\n",
    "y_pred2=mnb.predict(X_test)\n",
    "print('Accuracy score of Multinomial NB is: ',accuracy_score(y_test,y_pred2))\n",
    "print('Confusion Matrix of Multinomial NB is:\\n',confusion_matrix(y_test,y_pred2))\n",
    "print('Precision score of the Multinomial NB is',precision_score(y_test,y_pred2))\n",
    "print('Recall score of the Multinomial NB is',recall_score(y_test,y_pred2))\n",
    "print('F1 score of the Multinomial NB is',f1_score(y_test,y_pred2))\n",
    "print('Classification report of the Multinomial NB is:\\n',classification_report(y_test,y_pred2))"
   ]
  },
  {
   "cell_type": "code",
   "execution_count": 178,
   "metadata": {},
   "outputs": [
    {
     "name": "stdout",
     "output_type": "stream",
     "text": [
      "Accuracy score of Bernoulli NB is:  0.8140463840696357\n",
      "Confusion Matrix of Bernoulli NB is:\n",
      " [[ 2722   667]\n",
      " [ 2452 10932]]\n",
      "Precision score of the Bernoulli NB is 0.9424950426760927\n",
      "Recall score of the Bernoulli NB is 0.8167961745367603\n",
      "F1 score of the Bernoulli NB is 0.8751551054717208\n",
      "Classification report of the Bernoulli NB is:\n",
      "               precision    recall  f1-score   support\n",
      "\n",
      "         0.0       0.53      0.80      0.64      3389\n",
      "         1.0       0.94      0.82      0.88     13384\n",
      "\n",
      "    accuracy                           0.81     16773\n",
      "   macro avg       0.73      0.81      0.76     16773\n",
      "weighted avg       0.86      0.81      0.83     16773\n",
      "\n"
     ]
    }
   ],
   "source": [
    "bnb.fit(X_train,y_train)\n",
    "y_pred3=bnb.predict(X_test)\n",
    "print('Accuracy score of Bernoulli NB is: ',accuracy_score(y_test,y_pred3))\n",
    "print('Confusion Matrix of Bernoulli NB is:\\n',confusion_matrix(y_test,y_pred3))\n",
    "print('Precision score of the Bernoulli NB is',precision_score(y_test,y_pred3))\n",
    "print('Recall score of the Bernoulli NB is',recall_score(y_test,y_pred3))\n",
    "print('F1 score of the Bernoulli NB is',f1_score(y_test,y_pred3))\n",
    "print('Classification report of the Bernoulli NB is:\\n',classification_report(y_test,y_pred3))"
   ]
  },
  {
   "cell_type": "code",
   "execution_count": 230,
   "metadata": {},
   "outputs": [
    {
     "name": "stderr",
     "output_type": "stream",
     "text": [
      "C:\\Users\\Victor\\AppData\\Local\\Temp\\ipykernel_21840\\361767530.py:2: SettingWithCopyWarning: \n",
      "A value is trying to be set on a copy of a slice from a DataFrame.\n",
      "Try using .loc[row_indexer,col_indexer] = value instead\n",
      "\n",
      "See the caveats in the documentation: https://pandas.pydata.org/pandas-docs/stable/user_guide/indexing.html#returning-a-view-versus-a-copy\n",
      "  reviews_df['rating_label'] = reviews_df['rating'].apply(lambda x: 1 if x >= 5 else 0)\n"
     ]
    }
   ],
   "source": [
    "# Add a label for the rating (1 for above, 0 for below)\n",
    "reviews_df['rating_label'] = reviews_df['rating'].apply(lambda x: 1 if x >= 5 else 0)"
   ]
  },
  {
   "cell_type": "code",
   "execution_count": 231,
   "metadata": {},
   "outputs": [],
   "source": [
    "from sklearn.feature_extraction.text import TfidfVectorizer\n",
    "from sklearn.model_selection import train_test_split\n",
    "\n",
    "# Feature Extraction\n",
    "tfidf_vectorizer = TfidfVectorizer()\n",
    "tfidf_features = tfidf_vectorizer.fit_transform(reviews_df['cleaned_content'])\n",
    "\n",
    "# Prepare data for Logistic Regression\n",
    "X = tfidf_features\n",
    "y = reviews_df['rating_label']\n",
    "\n",
    "# Split the dataset\n",
    "X_train, X_test, y_train, y_test = train_test_split(X, y, test_size=0.2, random_state=42)"
   ]
  },
  {
   "cell_type": "code",
   "execution_count": 232,
   "metadata": {},
   "outputs": [],
   "source": [
    "from sklearn.linear_model import LogisticRegression\n",
    "\n",
    "# Train and evaluate Logistic Regression\n",
    "logistic_model = LogisticRegression(max_iter=1000)\n",
    "logistic_model.fit(X_train, y_train)\n",
    "y_pred = logistic_model.predict(X_test)\n",
    "y_pred_proba = logistic_model.predict_proba(X_test)[:, 1]"
   ]
  },
  {
   "cell_type": "code",
   "execution_count": 233,
   "metadata": {},
   "outputs": [
    {
     "name": "stdout",
     "output_type": "stream",
     "text": [
      "              precision    recall  f1-score   support\n",
      "\n",
      "       Below       0.82      0.54      0.65      2980\n",
      "       Above       0.91      0.97      0.94     13793\n",
      "\n",
      "    accuracy                           0.90     16773\n",
      "   macro avg       0.86      0.76      0.80     16773\n",
      "weighted avg       0.89      0.90      0.89     16773\n",
      "\n"
     ]
    }
   ],
   "source": [
    "from sklearn.metrics import classification_report\n",
    "\n",
    "# Print classification report\n",
    "print(classification_report(y_test, y_pred, target_names=['Below', 'Above']))"
   ]
  },
  {
   "cell_type": "code",
   "execution_count": 234,
   "metadata": {},
   "outputs": [
    {
     "data": {
      "image/png": "[encoded data removed]",
      "text/plain": [
       "<Figure size 640x480 with 2 Axes>"
      ]
     },
     "metadata": {},
     "output_type": "display_data"
    }
   ],
   "source": [
    "import matplotlib.pyplot as plt\n",
    "from sklearn.metrics import confusion_matrix, ConfusionMatrixDisplay\n",
    "\n",
    "# Plot confusion matrix\n",
    "cm = confusion_matrix(y_test, y_pred, labels=[0, 1])\n",
    "disp = ConfusionMatrixDisplay(confusion_matrix=cm, display_labels=['Below', 'Above'])\n",
    "disp.plot(cmap=plt.cm.Blues)\n",
    "plt.show()"
   ]
  },
  {
   "cell_type": "code",
   "execution_count": null,
   "metadata": {},
   "outputs": [],
   "source": [
    "# Importing the necessary libraries\n",
    "\n",
    "import pandas as pd"
   ]
  },
  {
   "cell_type": "code",
   "execution_count": null,
   "metadata": {},
   "outputs": [],
   "source": [
    "# Load data\n",
    "reviews_df = pd.read_csv('imdb_reviews.csv', encoding='utf-8')"
   ]
  },
  {
   "cell_type": "code",
   "execution_count": null,
   "metadata": {},
   "outputs": [
    {
     "data": {
      "text/html": [
       "<div>\n",
       "<style scoped>\n",
       "    .dataframe tbody tr th:only-of-type {\n",
       "        vertical-align: middle;\n",
       "    }\n",
       "\n",
       "    .dataframe tbody tr th {\n",
       "        vertical-align: top;\n",
       "    }\n",
       "\n",
       "    .dataframe thead th {\n",
       "        text-align: right;\n",
       "    }\n",
       "</style>\n",
       "<table border=\"1\" class=\"dataframe\">\n",
       "  <thead>\n",
       "    <tr style=\"text-align: right;\">\n",
       "      <th></th>\n",
       "      <th>imdb_id</th>\n",
       "      <th>rating</th>\n",
       "      <th>review_content</th>\n",
       "    </tr>\n",
       "  </thead>\n",
       "  <tbody>\n",
       "    <tr>\n",
       "      <th>0</th>\n",
       "      <td>7026230</td>\n",
       "      <td>10.0</td>\n",
       "      <td>Patton Oswalt has been a long time favorite co...</td>\n",
       "    </tr>\n",
       "    <tr>\n",
       "      <th>1</th>\n",
       "      <td>7026230</td>\n",
       "      <td>10.0</td>\n",
       "      <td>With Patton Oswalt: Annihilation - aka, here's...</td>\n",
       "    </tr>\n",
       "    <tr>\n",
       "      <th>2</th>\n",
       "      <td>7026230</td>\n",
       "      <td>10.0</td>\n",
       "      <td>Man, that had to have been hard; but he makes ...</td>\n",
       "    </tr>\n",
       "    <tr>\n",
       "      <th>3</th>\n",
       "      <td>7026230</td>\n",
       "      <td>10.0</td>\n",
       "      <td>Coming off the death of his wife, Patton Oswal...</td>\n",
       "    </tr>\n",
       "    <tr>\n",
       "      <th>4</th>\n",
       "      <td>7026230</td>\n",
       "      <td>5.0</td>\n",
       "      <td>Patton Oswalt is a funny comedian, for sure.Bu...</td>\n",
       "    </tr>\n",
       "    <tr>\n",
       "      <th>...</th>\n",
       "      <td>...</td>\n",
       "      <td>...</td>\n",
       "      <td>...</td>\n",
       "    </tr>\n",
       "    <tr>\n",
       "      <th>84131</th>\n",
       "      <td>421994</td>\n",
       "      <td>6.0</td>\n",
       "      <td>Imagine Me &amp; You is a wryly amusing and well w...</td>\n",
       "    </tr>\n",
       "    <tr>\n",
       "      <th>84132</th>\n",
       "      <td>421994</td>\n",
       "      <td>5.0</td>\n",
       "      <td>The most impressive aspect of this frothy, und...</td>\n",
       "    </tr>\n",
       "    <tr>\n",
       "      <th>84133</th>\n",
       "      <td>421994</td>\n",
       "      <td>9.0</td>\n",
       "      <td>It's so rare to see a film that actually shows...</td>\n",
       "    </tr>\n",
       "    <tr>\n",
       "      <th>84134</th>\n",
       "      <td>421994</td>\n",
       "      <td>7.0</td>\n",
       "      <td>Watching this 17 years later in a very differe...</td>\n",
       "    </tr>\n",
       "    <tr>\n",
       "      <th>84135</th>\n",
       "      <td>421994</td>\n",
       "      <td>1.0</td>\n",
       "      <td>Reading some of the other reviews of this film...</td>\n",
       "    </tr>\n",
       "  </tbody>\n",
       "</table>\n",
       "<p>84136 rows × 3 columns</p>\n",
       "</div>"
      ],
      "text/plain": [
       "       imdb_id  rating                                     review_content\n",
       "0      7026230    10.0  Patton Oswalt has been a long time favorite co...\n",
       "1      7026230    10.0  With Patton Oswalt: Annihilation - aka, here's...\n",
       "2      7026230    10.0  Man, that had to have been hard; but he makes ...\n",
       "3      7026230    10.0  Coming off the death of his wife, Patton Oswal...\n",
       "4      7026230     5.0  Patton Oswalt is a funny comedian, for sure.Bu...\n",
       "...        ...     ...                                                ...\n",
       "84131   421994     6.0  Imagine Me & You is a wryly amusing and well w...\n",
       "84132   421994     5.0  The most impressive aspect of this frothy, und...\n",
       "84133   421994     9.0  It's so rare to see a film that actually shows...\n",
       "84134   421994     7.0  Watching this 17 years later in a very differe...\n",
       "84135   421994     1.0  Reading some of the other reviews of this film...\n",
       "\n",
       "[84136 rows x 3 columns]"
      ]
     },
     "metadata": {},
     "output_type": "display_data"
    }
   ],
   "source": [
    "reviews_df"
   ]
  },
  {
   "cell_type": "code",
   "execution_count": null,
   "metadata": {},
   "outputs": [],
   "source": [
    "from langdetect import detect, LangDetectException\n",
    "\n",
    "# Detect language of the comments and select only the ones in English\n",
    "def detect_language(text):\n",
    "    try:\n",
    "        return detect(text)\n",
    "    except LangDetectException:\n",
    "        return None\n",
    "\n",
    "reviews_df['language'] = reviews_df['review_content'].apply(detect_language)\n",
    "reviews_df = reviews_df[reviews_df['language'] == 'en']\n",
    "reviews_df = reviews_df.drop('language', axis=1)"
   ]
  },
  {
   "cell_type": "code",
   "execution_count": null,
   "metadata": {},
   "outputs": [],
   "source": [
    "from nltk.corpus import stopwords\n",
    "from nltk.tokenize import word_tokenize\n",
    "from nltk.stem import WordNetLemmatizer\n",
    "\n",
    "stop_words = set(stopwords.words('english'))\n",
    "lemmatizer = WordNetLemmatizer()\n",
    "\n",
    "def preprocess_text(text):\n",
    "    tokens = word_tokenize(text.lower())  # Tokenize and lowercase\n",
    "    tokens = [word for word in tokens if word.isalpha()]  # Remove punctuation\n",
    "    tokens = [word for word in tokens if word not in stop_words]  # Remove stop words\n",
    "    tokens = [lemmatizer.lemmatize(word) for word in tokens]  # Lemmatize words\n",
    "    return ' '.join(tokens)\n",
    "\n",
    "# Apply preprocessing to the content column\n",
    "reviews_df['cleaned_content'] = reviews_df['review_content'].apply(preprocess_text)\n",
    "reviews_df = reviews_df.drop('review_content', axis=1)"
   ]
  },
  {
   "cell_type": "code",
   "execution_count": null,
   "metadata": {},
   "outputs": [
    {
     "data": {
      "text/html": [
       "<div>\n",
       "<style scoped>\n",
       "    .dataframe tbody tr th:only-of-type {\n",
       "        vertical-align: middle;\n",
       "    }\n",
       "\n",
       "    .dataframe tbody tr th {\n",
       "        vertical-align: top;\n",
       "    }\n",
       "\n",
       "    .dataframe thead th {\n",
       "        text-align: right;\n",
       "    }\n",
       "</style>\n",
       "<table border=\"1\" class=\"dataframe\">\n",
       "  <thead>\n",
       "    <tr style=\"text-align: right;\">\n",
       "      <th></th>\n",
       "      <th>imdb_id</th>\n",
       "      <th>rating</th>\n",
       "      <th>cleaned_content</th>\n",
       "      <th>word_count</th>\n",
       "      <th>char_count</th>\n",
       "    </tr>\n",
       "  </thead>\n",
       "  <tbody>\n",
       "    <tr>\n",
       "      <th>0</th>\n",
       "      <td>7026230</td>\n",
       "      <td>10.0</td>\n",
       "      <td>patton oswalt long time favorite comedian mine...</td>\n",
       "      <td>101</td>\n",
       "      <td>689</td>\n",
       "    </tr>\n",
       "    <tr>\n",
       "      <th>1</th>\n",
       "      <td>7026230</td>\n",
       "      <td>10.0</td>\n",
       "      <td>patton oswalt annihilation aka life like sure ...</td>\n",
       "      <td>158</td>\n",
       "      <td>999</td>\n",
       "    </tr>\n",
       "    <tr>\n",
       "      <th>2</th>\n",
       "      <td>7026230</td>\n",
       "      <td>10.0</td>\n",
       "      <td>man hard make look easy considering level patt...</td>\n",
       "      <td>55</td>\n",
       "      <td>365</td>\n",
       "    </tr>\n",
       "    <tr>\n",
       "      <th>3</th>\n",
       "      <td>7026230</td>\n",
       "      <td>10.0</td>\n",
       "      <td>coming death wife patton oswalt delivers great...</td>\n",
       "      <td>74</td>\n",
       "      <td>493</td>\n",
       "    </tr>\n",
       "    <tr>\n",
       "      <th>4</th>\n",
       "      <td>7026230</td>\n",
       "      <td>5.0</td>\n",
       "      <td>patton oswalt funny comedian show much focused...</td>\n",
       "      <td>57</td>\n",
       "      <td>373</td>\n",
       "    </tr>\n",
       "    <tr>\n",
       "      <th>...</th>\n",
       "      <td>...</td>\n",
       "      <td>...</td>\n",
       "      <td>...</td>\n",
       "      <td>...</td>\n",
       "      <td>...</td>\n",
       "    </tr>\n",
       "    <tr>\n",
       "      <th>84131</th>\n",
       "      <td>421994</td>\n",
       "      <td>6.0</td>\n",
       "      <td>imagine wryly amusing well written romantic co...</td>\n",
       "      <td>136</td>\n",
       "      <td>951</td>\n",
       "    </tr>\n",
       "    <tr>\n",
       "      <th>84132</th>\n",
       "      <td>421994</td>\n",
       "      <td>5.0</td>\n",
       "      <td>impressive aspect frothy underdeveloped romant...</td>\n",
       "      <td>236</td>\n",
       "      <td>1680</td>\n",
       "    </tr>\n",
       "    <tr>\n",
       "      <th>84133</th>\n",
       "      <td>421994</td>\n",
       "      <td>9.0</td>\n",
       "      <td>rare see film actually show people conscience ...</td>\n",
       "      <td>55</td>\n",
       "      <td>350</td>\n",
       "    </tr>\n",
       "    <tr>\n",
       "      <th>84134</th>\n",
       "      <td>421994</td>\n",
       "      <td>7.0</td>\n",
       "      <td>watching year later different world made smile...</td>\n",
       "      <td>42</td>\n",
       "      <td>287</td>\n",
       "    </tr>\n",
       "    <tr>\n",
       "      <th>84135</th>\n",
       "      <td>421994</td>\n",
       "      <td>1.0</td>\n",
       "      <td>reading review film seems either love hate tho...</td>\n",
       "      <td>95</td>\n",
       "      <td>676</td>\n",
       "    </tr>\n",
       "  </tbody>\n",
       "</table>\n",
       "<p>84119 rows × 5 columns</p>\n",
       "</div>"
      ],
      "text/plain": [
       "       imdb_id  rating                                    cleaned_content  \\\n",
       "0      7026230    10.0  patton oswalt long time favorite comedian mine...   \n",
       "1      7026230    10.0  patton oswalt annihilation aka life like sure ...   \n",
       "2      7026230    10.0  man hard make look easy considering level patt...   \n",
       "3      7026230    10.0  coming death wife patton oswalt delivers great...   \n",
       "4      7026230     5.0  patton oswalt funny comedian show much focused...   \n",
       "...        ...     ...                                                ...   \n",
       "84131   421994     6.0  imagine wryly amusing well written romantic co...   \n",
       "84132   421994     5.0  impressive aspect frothy underdeveloped romant...   \n",
       "84133   421994     9.0  rare see film actually show people conscience ...   \n",
       "84134   421994     7.0  watching year later different world made smile...   \n",
       "84135   421994     1.0  reading review film seems either love hate tho...   \n",
       "\n",
       "       word_count  char_count  \n",
       "0             101         689  \n",
       "1             158         999  \n",
       "2              55         365  \n",
       "3              74         493  \n",
       "4              57         373  \n",
       "...           ...         ...  \n",
       "84131         136         951  \n",
       "84132         236        1680  \n",
       "84133          55         350  \n",
       "84134          42         287  \n",
       "84135          95         676  \n",
       "\n",
       "[84119 rows x 5 columns]"
      ]
     },
     "metadata": {},
     "output_type": "display_data"
    }
   ],
   "source": [
    "# Count the number of words and characters in each review\n",
    "reviews_df['word_count'] = reviews_df['cleaned_content'].apply(lambda x: len(x.split()))\n",
    "reviews_df['char_count'] = reviews_df['cleaned_content'].apply(len)\n",
    "reviews_df"
   ]
  },
  {
   "cell_type": "code",
   "execution_count": null,
   "metadata": {},
   "outputs": [
    {
     "data": {
      "text/html": [
       "<div>\n",
       "<style scoped>\n",
       "    .dataframe tbody tr th:only-of-type {\n",
       "        vertical-align: middle;\n",
       "    }\n",
       "\n",
       "    .dataframe tbody tr th {\n",
       "        vertical-align: top;\n",
       "    }\n",
       "\n",
       "    .dataframe thead th {\n",
       "        text-align: right;\n",
       "    }\n",
       "</style>\n",
       "<table border=\"1\" class=\"dataframe\">\n",
       "  <thead>\n",
       "    <tr style=\"text-align: right;\">\n",
       "      <th></th>\n",
       "      <th>imdb_id</th>\n",
       "      <th>rating</th>\n",
       "      <th>word_count</th>\n",
       "      <th>char_count</th>\n",
       "    </tr>\n",
       "  </thead>\n",
       "  <tbody>\n",
       "    <tr>\n",
       "      <th>imdb_id</th>\n",
       "      <td>1.000000</td>\n",
       "      <td>-0.089855</td>\n",
       "      <td>-0.176219</td>\n",
       "      <td>-0.171366</td>\n",
       "    </tr>\n",
       "    <tr>\n",
       "      <th>rating</th>\n",
       "      <td>-0.089855</td>\n",
       "      <td>1.000000</td>\n",
       "      <td>0.044146</td>\n",
       "      <td>0.050016</td>\n",
       "    </tr>\n",
       "    <tr>\n",
       "      <th>word_count</th>\n",
       "      <td>-0.176219</td>\n",
       "      <td>0.044146</td>\n",
       "      <td>1.000000</td>\n",
       "      <td>0.997218</td>\n",
       "    </tr>\n",
       "    <tr>\n",
       "      <th>char_count</th>\n",
       "      <td>-0.171366</td>\n",
       "      <td>0.050016</td>\n",
       "      <td>0.997218</td>\n",
       "      <td>1.000000</td>\n",
       "    </tr>\n",
       "  </tbody>\n",
       "</table>\n",
       "</div>"
      ],
      "text/plain": [
       "             imdb_id    rating  word_count  char_count\n",
       "imdb_id     1.000000 -0.089855   -0.176219   -0.171366\n",
       "rating     -0.089855  1.000000    0.044146    0.050016\n",
       "word_count -0.176219  0.044146    1.000000    0.997218\n",
       "char_count -0.171366  0.050016    0.997218    1.000000"
      ]
     },
     "metadata": {},
     "output_type": "display_data"
    }
   ],
   "source": [
    "# Select the numeric columns\n",
    "numeric_cols = reviews_df.select_dtypes(include='number')\n",
    "\n",
    "# Show the correlation matrix\n",
    "correlation_matrix = numeric_cols.corr()\n",
    "correlation_matrix"
   ]
  },
  {
   "cell_type": "code",
   "execution_count": null,
   "metadata": {},
   "outputs": [
    {
     "data": {
      "text/html": [
       "<div>\n",
       "<style scoped>\n",
       "    .dataframe tbody tr th:only-of-type {\n",
       "        vertical-align: middle;\n",
       "    }\n",
       "\n",
       "    .dataframe tbody tr th {\n",
       "        vertical-align: top;\n",
       "    }\n",
       "\n",
       "    .dataframe thead th {\n",
       "        text-align: right;\n",
       "    }\n",
       "</style>\n",
       "<table border=\"1\" class=\"dataframe\">\n",
       "  <thead>\n",
       "    <tr style=\"text-align: right;\">\n",
       "      <th></th>\n",
       "      <th>imdb_id</th>\n",
       "      <th>rating</th>\n",
       "      <th>word_count</th>\n",
       "      <th>char_count</th>\n",
       "    </tr>\n",
       "  </thead>\n",
       "  <tbody>\n",
       "    <tr>\n",
       "      <th>count</th>\n",
       "      <td>8.411900e+04</td>\n",
       "      <td>84119.000000</td>\n",
       "      <td>84119.000000</td>\n",
       "      <td>84119.000000</td>\n",
       "    </tr>\n",
       "    <tr>\n",
       "      <th>mean</th>\n",
       "      <td>2.348656e+06</td>\n",
       "      <td>6.474613</td>\n",
       "      <td>129.776281</td>\n",
       "      <td>893.002568</td>\n",
       "    </tr>\n",
       "    <tr>\n",
       "      <th>std</th>\n",
       "      <td>1.878193e+06</td>\n",
       "      <td>2.402089</td>\n",
       "      <td>104.692111</td>\n",
       "      <td>734.044235</td>\n",
       "    </tr>\n",
       "    <tr>\n",
       "      <th>min</th>\n",
       "      <td>3.542300e+04</td>\n",
       "      <td>1.000000</td>\n",
       "      <td>1.000000</td>\n",
       "      <td>4.000000</td>\n",
       "    </tr>\n",
       "    <tr>\n",
       "      <th>25%</th>\n",
       "      <td>8.624670e+05</td>\n",
       "      <td>6.000000</td>\n",
       "      <td>60.000000</td>\n",
       "      <td>404.000000</td>\n",
       "    </tr>\n",
       "    <tr>\n",
       "      <th>50%</th>\n",
       "      <td>1.821427e+06</td>\n",
       "      <td>7.000000</td>\n",
       "      <td>95.000000</td>\n",
       "      <td>650.000000</td>\n",
       "    </tr>\n",
       "    <tr>\n",
       "      <th>75%</th>\n",
       "      <td>3.458510e+06</td>\n",
       "      <td>8.000000</td>\n",
       "      <td>170.000000</td>\n",
       "      <td>1168.000000</td>\n",
       "    </tr>\n",
       "    <tr>\n",
       "      <th>max</th>\n",
       "      <td>8.786466e+06</td>\n",
       "      <td>10.000000</td>\n",
       "      <td>1016.000000</td>\n",
       "      <td>6955.000000</td>\n",
       "    </tr>\n",
       "  </tbody>\n",
       "</table>\n",
       "</div>"
      ],
      "text/plain": [
       "            imdb_id        rating    word_count    char_count\n",
       "count  8.411900e+04  84119.000000  84119.000000  84119.000000\n",
       "mean   2.348656e+06      6.474613    129.776281    893.002568\n",
       "std    1.878193e+06      2.402089    104.692111    734.044235\n",
       "min    3.542300e+04      1.000000      1.000000      4.000000\n",
       "25%    8.624670e+05      6.000000     60.000000    404.000000\n",
       "50%    1.821427e+06      7.000000     95.000000    650.000000\n",
       "75%    3.458510e+06      8.000000    170.000000   1168.000000\n",
       "max    8.786466e+06     10.000000   1016.000000   6955.000000"
      ]
     },
     "metadata": {},
     "output_type": "display_data"
    }
   ],
   "source": [
    "# Describe the data\n",
    "reviews_df.describe()"
   ]
  },
  {
   "cell_type": "code",
   "execution_count": null,
   "metadata": {},
   "outputs": [],
   "source": [
    "from nltk.sentiment import SentimentIntensityAnalyzer\n",
    "\n",
    "# Sentiment Analysis\n",
    "def analyze_sentiment(text):\n",
    "    sid = SentimentIntensityAnalyzer()\n",
    "    sentiment_scores = sid.polarity_scores(text)\n",
    "    return sentiment_scores['pos'], sentiment_scores['neg'], sentiment_scores['neu'], sentiment_scores['compound']\n",
    "\n",
    "reviews_df[['positive', 'negative', 'neutral', 'compound']] = reviews_df['cleaned_content'].apply(lambda x: pd.Series(analyze_sentiment(x)))"
   ]
  },
  {
   "cell_type": "code",
   "execution_count": null,
   "metadata": {},
   "outputs": [],
   "source": [
    "# Create sentiment labels\n",
    "def create_sentiment_label(compound_score):\n",
    "    if compound_score > 0.0:\n",
    "        return 'positive'\n",
    "    elif compound_score < 0.0:\n",
    "        return 'negative'\n",
    "    else:\n",
    "        return None\n",
    "\n",
    "reviews_df['sentiment_label'] = reviews_df['compound'].apply(create_sentiment_label)\n",
    "sentiment_mapping = {'positive': 1, 'negative': 0}\n",
    "reviews_df['sentiment_label_encoded'] = reviews_df['sentiment_label'].map(sentiment_mapping)"
   ]
  },
  {
   "cell_type": "code",
   "execution_count": null,
   "metadata": {},
   "outputs": [],
   "source": [
    "# Save the data into a new CSV file (for Power BI)\n",
    "reviews_df.to_csv('imdb_reviews_labeled.csv', index=False)"
   ]
  },
  {
   "cell_type": "code",
   "execution_count": null,
   "metadata": {},
   "outputs": [],
   "source": [
    "# Drop rows with 'None' labels (neutral sentiment)\n",
    "reviews_df = reviews_df.dropna(subset=['sentiment_label'])"
   ]
  },
  {
   "cell_type": "code",
   "execution_count": null,
   "metadata": {},
   "outputs": [],
   "source": [
    "from sklearn.feature_extraction.text import TfidfVectorizer\n",
    "from sklearn.model_selection import train_test_split\n",
    "\n",
    "# Feature Extraction\n",
    "tfidf_vectorizer = TfidfVectorizer()\n",
    "tfidf_features = tfidf_vectorizer.fit_transform(reviews_df['cleaned_content'])\n",
    "\n",
    "# Prepare data for Logistic Regression\n",
    "X = tfidf_features\n",
    "y = reviews_df['sentiment_label_encoded']\n",
    "\n",
    "# Split the dataset\n",
    "X_train, X_test, y_train, y_test = train_test_split(X, y, test_size=0.2, random_state=42)"
   ]
  },
  {
   "cell_type": "code",
   "execution_count": null,
   "metadata": {},
   "outputs": [],
   "source": [
    "from sklearn.linear_model import LogisticRegression\n",
    "\n",
    "# Train and evaluate Logistic Regression\n",
    "logistic_model = LogisticRegression(max_iter=1000)\n",
    "logistic_model.fit(X_train, y_train)\n",
    "y_pred = logistic_model.predict(X_test)\n",
    "y_pred_proba = logistic_model.predict_proba(X_test)[:, 1]"
   ]
  },
  {
   "cell_type": "code",
   "execution_count": null,
   "metadata": {},
   "outputs": [
    {
     "name": "stdout",
     "output_type": "stream",
     "text": [
      "              precision    recall  f1-score   support\n",
      "\n",
      "    Negative       0.92      0.66      0.77      3389\n",
      "    Positive       0.92      0.98      0.95     13384\n",
      "\n",
      "    accuracy                           0.92     16773\n",
      "   macro avg       0.92      0.82      0.86     16773\n",
      "weighted avg       0.92      0.92      0.91     16773\n",
      "\n"
     ]
    }
   ],
   "source": [
    "from sklearn.metrics import classification_report\n",
    "\n",
    "# Print classification report\n",
    "print(classification_report(y_test, y_pred, target_names=['Negative', 'Positive']))"
   ]
  },
  {
   "cell_type": "code",
   "execution_count": null,
   "metadata": {},
   "outputs": [
    {
     "data": {
      "image/png": "[encoded data removed]",
      "text/plain": [
       "<Figure size 640x480 with 2 Axes>"
      ]
     },
     "metadata": {},
     "output_type": "display_data"
    }
   ],
   "source": [
    "import matplotlib.pyplot as plt\n",
    "from sklearn.metrics import confusion_matrix, ConfusionMatrixDisplay\n",
    "\n",
    "# Plot confusion matrix\n",
    "cm = confusion_matrix(y_test, y_pred, labels=[0, 1])\n",
    "disp = ConfusionMatrixDisplay(confusion_matrix=cm, display_labels=['Negative', 'Positive'])\n",
    "disp.plot(cmap=plt.cm.Blues)\n",
    "plt.show()"
   ]
  },
  {
   "cell_type": "code",
   "execution_count": null,
   "metadata": {},
   "outputs": [
    {
     "name": "stdout",
     "output_type": "stream",
     "text": [
      "[[0.         0.         0.         ... 0.         0.         0.13168987]\n",
      " [0.         0.         0.         ... 0.         0.         0.        ]\n",
      " [0.         0.         0.         ... 0.         0.         0.        ]\n",
      " ...\n",
      " [0.         0.         0.         ... 0.         0.         0.        ]\n",
      " [0.         0.         0.         ... 0.         0.         0.        ]\n",
      " [0.         0.         0.         ... 0.         0.         0.        ]]\n",
      "[1. 1. 1. ... 1. 1. 0.]\n"
     ]
    }
   ],
   "source": [
    "from sklearn.feature_extraction.text import TfidfVectorizer\n",
    "\n",
    "tfidf= TfidfVectorizer(max_features=3000)\n",
    "X=tfidf.fit_transform(reviews_df['cleaned_content']).toarray()\n",
    "y=reviews_df['sentiment_label_encoded'].values\n",
    "print(X)\n",
    "print(y) "
   ]
  },
  {
   "cell_type": "code",
   "execution_count": null,
   "metadata": {},
   "outputs": [],
   "source": [
    "# Split the data into training and testing sets\n",
    "from sklearn.model_selection import train_test_split\n",
    "X_train, X_test, y_train, y_test = train_test_split(X, y, test_size=0.2, random_state=42)"
   ]
  },
  {
   "cell_type": "code",
   "execution_count": null,
   "metadata": {},
   "outputs": [],
   "source": [
    "from sklearn.naive_bayes import GaussianNB,MultinomialNB,BernoulliNB\n",
    "\n",
    "gnb = GaussianNB()\n",
    "bnb = BernoulliNB()\n",
    "mnb = MultinomialNB()"
   ]
  },
  {
   "cell_type": "code",
   "execution_count": null,
   "metadata": {},
   "outputs": [
    {
     "name": "stdout",
     "output_type": "stream",
     "text": [
      "Accuracy score of Gaussian NB is:  0.7621176891432659\n",
      "Confusion Matrix of Guassian NB is:\n",
      " [[ 2735   654]\n",
      " [ 3336 10048]]\n",
      "Precision score of the Gaussian NB is 0.9388899271164268\n",
      "Recall score of the Gaussian NB is 0.7507471607890018\n",
      "F1 score of the Gaussian NB is 0.8343436020925019\n",
      "Classification report of the Gaussian NB is:\n",
      "               precision    recall  f1-score   support\n",
      "\n",
      "         0.0       0.45      0.81      0.58      3389\n",
      "         1.0       0.94      0.75      0.83     13384\n",
      "\n",
      "    accuracy                           0.76     16773\n",
      "   macro avg       0.69      0.78      0.71     16773\n",
      "weighted avg       0.84      0.76      0.78     16773\n",
      "\n"
     ]
    }
   ],
   "source": [
    "from sklearn.metrics import classification_report, accuracy_score, precision_score, recall_score, f1_score, confusion_matrix\n",
    "\n",
    "gnb.fit(X_train,y_train)\n",
    "y_pred1= gnb.predict(X_test)\n",
    "print('Accuracy score of Gaussian NB is: ',accuracy_score(y_test,y_pred1))\n",
    "print('Confusion Matrix of Guassian NB is:\\n',confusion_matrix(y_test,y_pred1))\n",
    "print('Precision score of the Gaussian NB is',precision_score(y_test,y_pred1))\n",
    "print('Recall score of the Gaussian NB is',recall_score(y_test,y_pred1))\n",
    "print('F1 score of the Gaussian NB is',f1_score(y_test,y_pred1))\n",
    "print('Classification report of the Gaussian NB is:\\n',classification_report(y_test,y_pred1))"
   ]
  },
  {
   "cell_type": "code",
   "execution_count": null,
   "metadata": {},
   "outputs": [
    {
     "name": "stdout",
     "output_type": "stream",
     "text": [
      "Accuracy score of Multinomial NB is:  0.8248971561438025\n",
      "Confusion Matrix of Multinomial NB is:\n",
      " [[  468  2921]\n",
      " [   16 13368]]\n",
      "Precision score of the Multinomial NB is 0.8206765301737369\n",
      "Recall score of the Multinomial NB is 0.9988045427375971\n",
      "F1 score of the Multinomial NB is 0.9010211303204934\n",
      "Classification report of the Multinomial NB is:\n",
      "               precision    recall  f1-score   support\n",
      "\n",
      "         0.0       0.97      0.14      0.24      3389\n",
      "         1.0       0.82      1.00      0.90     13384\n",
      "\n",
      "    accuracy                           0.82     16773\n",
      "   macro avg       0.89      0.57      0.57     16773\n",
      "weighted avg       0.85      0.82      0.77     16773\n",
      "\n"
     ]
    }
   ],
   "source": [
    "mnb.fit(X_train,y_train)\n",
    "y_pred2=mnb.predict(X_test)\n",
    "print('Accuracy score of Multinomial NB is: ',accuracy_score(y_test,y_pred2))\n",
    "print('Confusion Matrix of Multinomial NB is:\\n',confusion_matrix(y_test,y_pred2))\n",
    "print('Precision score of the Multinomial NB is',precision_score(y_test,y_pred2))\n",
    "print('Recall score of the Multinomial NB is',recall_score(y_test,y_pred2))\n",
    "print('F1 score of the Multinomial NB is',f1_score(y_test,y_pred2))\n",
    "print('Classification report of the Multinomial NB is:\\n',classification_report(y_test,y_pred2))"
   ]
  },
  {
   "cell_type": "code",
   "execution_count": null,
   "metadata": {},
   "outputs": [
    {
     "name": "stdout",
     "output_type": "stream",
     "text": [
      "Accuracy score of Bernoulli NB is:  0.8140463840696357\n",
      "Confusion Matrix of Bernoulli NB is:\n",
      " [[ 2722   667]\n",
      " [ 2452 10932]]\n",
      "Precision score of the Bernoulli NB is 0.9424950426760927\n",
      "Recall score of the Bernoulli NB is 0.8167961745367603\n",
      "F1 score of the Bernoulli NB is 0.8751551054717208\n",
      "Classification report of the Bernoulli NB is:\n",
      "               precision    recall  f1-score   support\n",
      "\n",
      "         0.0       0.53      0.80      0.64      3389\n",
      "         1.0       0.94      0.82      0.88     13384\n",
      "\n",
      "    accuracy                           0.81     16773\n",
      "   macro avg       0.73      0.81      0.76     16773\n",
      "weighted avg       0.86      0.81      0.83     16773\n",
      "\n"
     ]
    }
   ],
   "source": [
    "bnb.fit(X_train,y_train)\n",
    "y_pred3=bnb.predict(X_test)\n",
    "print('Accuracy score of Bernoulli NB is: ',accuracy_score(y_test,y_pred3))\n",
    "print('Confusion Matrix of Bernoulli NB is:\\n',confusion_matrix(y_test,y_pred3))\n",
    "print('Precision score of the Bernoulli NB is',precision_score(y_test,y_pred3))\n",
    "print('Recall score of the Bernoulli NB is',recall_score(y_test,y_pred3))\n",
    "print('F1 score of the Bernoulli NB is',f1_score(y_test,y_pred3))\n",
    "print('Classification report of the Bernoulli NB is:\\n',classification_report(y_test,y_pred3))"
   ]
  },
  {
   "cell_type": "code",
   "execution_count": null,
   "metadata": {},
   "outputs": [
    {
     "name": "stderr",
     "output_type": "stream",
     "text": [
      "C:\\Users\\Victor\\AppData\\Local\\Temp\\ipykernel_21840\\361767530.py:2: SettingWithCopyWarning: \n",
      "A value is trying to be set on a copy of a slice from a DataFrame.\n",
      "Try using .loc[row_indexer,col_indexer] = value instead\n",
      "\n",
      "See the caveats in the documentation: https://pandas.pydata.org/pandas-docs/stable/user_guide/indexing.html#returning-a-view-versus-a-copy\n",
      "  reviews_df['rating_label'] = reviews_df['rating'].apply(lambda x: 1 if x >= 5 else 0)\n"
     ]
    }
   ],
   "source": [
    "# Add a label for the rating (1 for above, 0 for below)\n",
    "reviews_df['rating_label'] = reviews_df['rating'].apply(lambda x: 1 if x >= 5 else 0)"
   ]
  },
  {
   "cell_type": "code",
   "execution_count": null,
   "metadata": {},
   "outputs": [],
   "source": [
    "from sklearn.feature_extraction.text import TfidfVectorizer\n",
    "from sklearn.model_selection import train_test_split\n",
    "\n",
    "# Feature Extraction\n",
    "tfidf_vectorizer = TfidfVectorizer()\n",
    "tfidf_features = tfidf_vectorizer.fit_transform(reviews_df['cleaned_content'])\n",
    "\n",
    "# Prepare data for Logistic Regression\n",
    "X = tfidf_features\n",
    "y = reviews_df['rating_label']\n",
    "\n",
    "# Split the dataset\n",
    "X_train, X_test, y_train, y_test = train_test_split(X, y, test_size=0.2, random_state=42)"
   ]
  },
  {
   "cell_type": "code",
   "execution_count": null,
   "metadata": {},
   "outputs": [],
   "source": [
    "from sklearn.linear_model import LogisticRegression\n",
    "\n",
    "# Train and evaluate Logistic Regression\n",
    "logistic_model = LogisticRegression(max_iter=1000)\n",
    "logistic_model.fit(X_train, y_train)\n",
    "y_pred = logistic_model.predict(X_test)\n",
    "y_pred_proba = logistic_model.predict_proba(X_test)[:, 1]"
   ]
  },
  {
   "cell_type": "code",
   "execution_count": null,
   "metadata": {},
   "outputs": [
    {
     "name": "stdout",
     "output_type": "stream",
     "text": [
      "              precision    recall  f1-score   support\n",
      "\n",
      "       Below       0.82      0.54      0.65      2980\n",
      "       Above       0.91      0.97      0.94     13793\n",
      "\n",
      "    accuracy                           0.90     16773\n",
      "   macro avg       0.86      0.76      0.80     16773\n",
      "weighted avg       0.89      0.90      0.89     16773\n",
      "\n"
     ]
    }
   ],
   "source": [
    "from sklearn.metrics import classification_report\n",
    "\n",
    "# Print classification report\n",
    "print(classification_report(y_test, y_pred, target_names=['Below', 'Above']))"
   ]
  },
  {
   "cell_type": "code",
   "execution_count": null,
   "metadata": {},
   "outputs": [
    {
     "data": {
      "image/png": "[encoded data removed]",
      "text/plain": [
       "<Figure size 640x480 with 2 Axes>"
      ]
     },
     "metadata": {},
     "output_type": "display_data"
    }
   ],
   "source": [
    "import matplotlib.pyplot as plt\n",
    "from sklearn.metrics import confusion_matrix, ConfusionMatrixDisplay\n",
    "\n",
    "# Plot confusion matrix\n",
    "cm = confusion_matrix(y_test, y_pred, labels=[0, 1])\n",
    "disp = ConfusionMatrixDisplay(confusion_matrix=cm, display_labels=['Below', 'Above'])\n",
    "disp.plot(cmap=plt.cm.Blues)\n",
    "plt.show()"
   ]
  },
  {
   "cell_type": "code",
   "execution_count": null,
   "metadata": {},
   "outputs": [
    {
     "name": "stdout",
     "output_type": "stream",
     "text": [
      "[[0.         0.         0.         ... 0.         0.         0.13168987]\n",
      " [0.         0.         0.         ... 0.         0.         0.        ]\n",
      " [0.         0.         0.         ... 0.         0.         0.        ]\n",
      " ...\n",
      " [0.         0.         0.         ... 0.         0.         0.        ]\n",
      " [0.         0.         0.         ... 0.         0.         0.        ]\n",
      " [0.         0.         0.         ... 0.         0.         0.        ]]\n",
      "[1 1 1 ... 1 1 0]\n"
     ]
    }
   ],
   "source": [
    "from sklearn.feature_extraction.text import TfidfVectorizer\n",
    "\n",
    "tfidf= TfidfVectorizer(max_features=3000)\n",
    "X=tfidf.fit_transform(reviews_df['cleaned_content']).toarray()\n",
    "y=reviews_df['rating_label'].values\n",
    "print(X)\n",
    "print(y) "
   ]
  },
  {
   "cell_type": "code",
   "execution_count": null,
   "metadata": {},
   "outputs": [],
   "source": [
    "# Split the data into training and testing sets\n",
    "from sklearn.model_selection import train_test_split\n",
    "X_train, X_test, y_train, y_test = train_test_split(X, y, test_size=0.2, random_state=42)\n",
    "from sklearn.naive_bayes import GaussianNB,MultinomialNB,BernoulliNB"
   ]
  },
  {
   "cell_type": "code",
   "execution_count": null,
   "metadata": {},
   "outputs": [
    {
     "name": "stdout",
     "output_type": "stream",
     "text": [
      "Accuracy score of Gaussian NB is:  0.7612233947415489\n",
      "Confusion Matrix of Guassian NB is:\n",
      " [[ 2264   716]\n",
      " [ 3289 10504]]\n",
      "Precision score of the Gaussian NB is 0.9361853832442067\n",
      "Recall score of the Gaussian NB is 0.7615457115928369\n",
      "F1 score of the Gaussian NB is 0.8398832607044336\n",
      "Classification report of the Gaussian NB is:\n",
      "               precision    recall  f1-score   support\n",
      "\n",
      "           0       0.41      0.76      0.53      2980\n",
      "           1       0.94      0.76      0.84     13793\n",
      "\n",
      "    accuracy                           0.76     16773\n",
      "   macro avg       0.67      0.76      0.69     16773\n",
      "weighted avg       0.84      0.76      0.78     16773\n",
      "\n"
     ]
    }
   ],
   "source": [
    "gnb.fit(X_train,y_train)\n",
    "y_pred1= gnb.predict(X_test)\n",
    "print('Accuracy score of Gaussian NB is: ',accuracy_score(y_test,y_pred1))\n",
    "print('Confusion Matrix of Guassian NB is:\\n',confusion_matrix(y_test,y_pred1))\n",
    "print('Precision score of the Gaussian NB is',precision_score(y_test,y_pred1))\n",
    "print('Recall score of the Gaussian NB is',recall_score(y_test,y_pred1))\n",
    "print('F1 score of the Gaussian NB is',f1_score(y_test,y_pred1))\n",
    "print('Classification report of the Gaussian NB is:\\n',classification_report(y_test,y_pred1))"
   ]
  },
  {
   "cell_type": "code",
   "execution_count": null,
   "metadata": {},
   "outputs": [
    {
     "name": "stdout",
     "output_type": "stream",
     "text": [
      "Accuracy score of Multinomial NB is:  0.8496393012579742\n",
      "Confusion Matrix of Multinomial NB is:\n",
      " [[  486  2494]\n",
      " [   28 13765]]\n",
      "Precision score of the Multinomial NB is 0.8466080324743219\n",
      "Recall score of the Multinomial NB is 0.9979699847748859\n",
      "F1 score of the Multinomial NB is 0.916078796752296\n",
      "Classification report of the Multinomial NB is:\n",
      "               precision    recall  f1-score   support\n",
      "\n",
      "           0       0.95      0.16      0.28      2980\n",
      "           1       0.85      1.00      0.92     13793\n",
      "\n",
      "    accuracy                           0.85     16773\n",
      "   macro avg       0.90      0.58      0.60     16773\n",
      "weighted avg       0.86      0.85      0.80     16773\n",
      "\n"
     ]
    }
   ],
   "source": [
    "mnb.fit(X_train,y_train)\n",
    "y_pred2=mnb.predict(X_test)\n",
    "print('Accuracy score of Multinomial NB is: ',accuracy_score(y_test,y_pred2))\n",
    "print('Confusion Matrix of Multinomial NB is:\\n',confusion_matrix(y_test,y_pred2))\n",
    "print('Precision score of the Multinomial NB is',precision_score(y_test,y_pred2))\n",
    "print('Recall score of the Multinomial NB is',recall_score(y_test,y_pred2))\n",
    "print('F1 score of the Multinomial NB is',f1_score(y_test,y_pred2))\n",
    "print('Classification report of the Multinomial NB is:\\n',classification_report(y_test,y_pred2))"
   ]
  },
  {
   "cell_type": "code",
   "execution_count": null,
   "metadata": {},
   "outputs": [
    {
     "name": "stdout",
     "output_type": "stream",
     "text": [
      "Accuracy score of Bernoulli NB is:  0.717104870923508\n",
      "Confusion Matrix of Bernoulli NB is:\n",
      " [[2350  630]\n",
      " [4115 9678]]\n",
      "Precision score of the Bernoulli NB is 0.9388824214202561\n",
      "Recall score of the Bernoulli NB is 0.7016602624519684\n",
      "F1 score of the Bernoulli NB is 0.8031202024812248\n",
      "Classification report of the Bernoulli NB is:\n",
      "               precision    recall  f1-score   support\n",
      "\n",
      "           0       0.36      0.79      0.50      2980\n",
      "           1       0.94      0.70      0.80     13793\n",
      "\n",
      "    accuracy                           0.72     16773\n",
      "   macro avg       0.65      0.75      0.65     16773\n",
      "weighted avg       0.84      0.72      0.75     16773\n",
      "\n"
     ]
    }
   ],
   "source": [
    "bnb.fit(X_train,y_train)\n",
    "y_pred3=bnb.predict(X_test)\n",
    "print('Accuracy score of Bernoulli NB is: ',accuracy_score(y_test,y_pred3))\n",
    "print('Confusion Matrix of Bernoulli NB is:\\n',confusion_matrix(y_test,y_pred3))\n",
    "print('Precision score of the Bernoulli NB is',precision_score(y_test,y_pred3))\n",
    "print('Recall score of the Bernoulli NB is',recall_score(y_test,y_pred3))\n",
    "print('F1 score of the Bernoulli NB is',f1_score(y_test,y_pred3))\n",
    "print('Classification report of the Bernoulli NB is:\\n',classification_report(y_test,y_pred3))"
   ]
  },
  {
   "cell_type": "code",
   "execution_count": 235,
   "metadata": {},
   "outputs": [
    {
     "name": "stdout",
     "output_type": "stream",
     "text": [
      "[[0.         0.         0.         ... 0.         0.         0.13168987]\n",
      " [0.         0.         0.         ... 0.         0.         0.        ]\n",
      " [0.         0.         0.         ... 0.         0.         0.        ]\n",
      " ...\n",
      " [0.         0.         0.         ... 0.         0.         0.        ]\n",
      " [0.         0.         0.         ... 0.         0.         0.        ]\n",
      " [0.         0.         0.         ... 0.         0.         0.        ]]\n",
      "[1 1 1 ... 1 1 0]\n"
     ]
    }
   ],
   "source": [
    "from sklearn.feature_extraction.text import TfidfVectorizer\n",
    "\n",
    "tfidf= TfidfVectorizer(max_features=3000)\n",
    "X=tfidf.fit_transform(reviews_df['cleaned_content']).toarray()\n",
    "y=reviews_df['rating_label'].values\n",
    "print(X)\n",
    "print(y) "
   ]
  },
  {
   "cell_type": "code",
   "execution_count": 236,
   "metadata": {},
   "outputs": [],
   "source": [
    "# Split the data into training and testing sets\n",
    "from sklearn.model_selection import train_test_split\n",
    "X_train, X_test, y_train, y_test = train_test_split(X, y, test_size=0.2, random_state=42)\n",
    "from sklearn.naive_bayes import GaussianNB,MultinomialNB,BernoulliNB"
   ]
  },
  {
   "cell_type": "code",
   "execution_count": 237,
   "metadata": {},
   "outputs": [
    {
     "name": "stdout",
     "output_type": "stream",
     "text": [
      "Accuracy score of Gaussian NB is:  0.7612233947415489\n",
      "Confusion Matrix of Guassian NB is:\n",
      " [[ 2264   716]\n",
      " [ 3289 10504]]\n",
      "Precision score of the Gaussian NB is 0.9361853832442067\n",
      "Recall score of the Gaussian NB is 0.7615457115928369\n",
      "F1 score of the Gaussian NB is 0.8398832607044336\n",
      "Classification report of the Gaussian NB is:\n",
      "               precision    recall  f1-score   support\n",
      "\n",
      "           0       0.41      0.76      0.53      2980\n",
      "           1       0.94      0.76      0.84     13793\n",
      "\n",
      "    accuracy                           0.76     16773\n",
      "   macro avg       0.67      0.76      0.69     16773\n",
      "weighted avg       0.84      0.76      0.78     16773\n",
      "\n"
     ]
    }
   ],
   "source": [
    "gnb.fit(X_train,y_train)\n",
    "y_pred1= gnb.predict(X_test)\n",
    "print('Accuracy score of Gaussian NB is: ',accuracy_score(y_test,y_pred1))\n",
    "print('Confusion Matrix of Guassian NB is:\\n',confusion_matrix(y_test,y_pred1))\n",
    "print('Precision score of the Gaussian NB is',precision_score(y_test,y_pred1))\n",
    "print('Recall score of the Gaussian NB is',recall_score(y_test,y_pred1))\n",
    "print('F1 score of the Gaussian NB is',f1_score(y_test,y_pred1))\n",
    "print('Classification report of the Gaussian NB is:\\n',classification_report(y_test,y_pred1))"
   ]
  },
  {
   "cell_type": "code",
   "execution_count": 238,
   "metadata": {},
   "outputs": [
    {
     "name": "stdout",
     "output_type": "stream",
     "text": [
      "Accuracy score of Multinomial NB is:  0.8496393012579742\n",
      "Confusion Matrix of Multinomial NB is:\n",
      " [[  486  2494]\n",
      " [   28 13765]]\n",
      "Precision score of the Multinomial NB is 0.8466080324743219\n",
      "Recall score of the Multinomial NB is 0.9979699847748859\n",
      "F1 score of the Multinomial NB is 0.916078796752296\n",
      "Classification report of the Multinomial NB is:\n",
      "               precision    recall  f1-score   support\n",
      "\n",
      "           0       0.95      0.16      0.28      2980\n",
      "           1       0.85      1.00      0.92     13793\n",
      "\n",
      "    accuracy                           0.85     16773\n",
      "   macro avg       0.90      0.58      0.60     16773\n",
      "weighted avg       0.86      0.85      0.80     16773\n",
      "\n"
     ]
    }
   ],
   "source": [
    "mnb.fit(X_train,y_train)\n",
    "y_pred2=mnb.predict(X_test)\n",
    "print('Accuracy score of Multinomial NB is: ',accuracy_score(y_test,y_pred2))\n",
    "print('Confusion Matrix of Multinomial NB is:\\n',confusion_matrix(y_test,y_pred2))\n",
    "print('Precision score of the Multinomial NB is',precision_score(y_test,y_pred2))\n",
    "print('Recall score of the Multinomial NB is',recall_score(y_test,y_pred2))\n",
    "print('F1 score of the Multinomial NB is',f1_score(y_test,y_pred2))\n",
    "print('Classification report of the Multinomial NB is:\\n',classification_report(y_test,y_pred2))"
   ]
  },
  {
   "cell_type": "code",
   "execution_count": 239,
   "metadata": {},
   "outputs": [
    {
     "name": "stdout",
     "output_type": "stream",
     "text": [
      "Accuracy score of Bernoulli NB is:  0.717104870923508\n",
      "Confusion Matrix of Bernoulli NB is:\n",
      " [[2350  630]\n",
      " [4115 9678]]\n",
      "Precision score of the Bernoulli NB is 0.9388824214202561\n",
      "Recall score of the Bernoulli NB is 0.7016602624519684\n",
      "F1 score of the Bernoulli NB is 0.8031202024812248\n",
      "Classification report of the Bernoulli NB is:\n",
      "               precision    recall  f1-score   support\n",
      "\n",
      "           0       0.36      0.79      0.50      2980\n",
      "           1       0.94      0.70      0.80     13793\n",
      "\n",
      "    accuracy                           0.72     16773\n",
      "   macro avg       0.65      0.75      0.65     16773\n",
      "weighted avg       0.84      0.72      0.75     16773\n",
      "\n"
     ]
    }
   ],
   "source": [
    "bnb.fit(X_train,y_train)\n",
    "y_pred3=bnb.predict(X_test)\n",
    "print('Accuracy score of Bernoulli NB is: ',accuracy_score(y_test,y_pred3))\n",
    "print('Confusion Matrix of Bernoulli NB is:\\n',confusion_matrix(y_test,y_pred3))\n",
    "print('Precision score of the Bernoulli NB is',precision_score(y_test,y_pred3))\n",
    "print('Recall score of the Bernoulli NB is',recall_score(y_test,y_pred3))\n",
    "print('F1 score of the Bernoulli NB is',f1_score(y_test,y_pred3))\n",
    "print('Classification report of the Bernoulli NB is:\\n',classification_report(y_test,y_pred3))"
   ]
  }
 ],
 "metadata": {
  "kernelspec": {
   "display_name": "Python 3",
   "language": "python",
   "name": "python3"
  },
  "language_info": {
   "codemirror_mode": {
    "name": "ipython",
    "version": 3
   },
   "file_extension": ".py",
   "mimetype": "text/x-python",
   "name": "python",
   "nbconvert_exporter": "python",
   "pygments_lexer": "ipython3",
   "version": "3.12.2"
  }
 },
 "nbformat": 4,
 "nbformat_minor": 2
}
